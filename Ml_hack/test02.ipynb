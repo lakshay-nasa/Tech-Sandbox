{
 "cells": [
  {
   "cell_type": "code",
   "execution_count": 1,
   "id": "6c494226-77b3-4b29-8ead-a96be8cca83a",
   "metadata": {
    "tags": []
   },
   "outputs": [],
   "source": [
    "import pandas as pd\n",
    "import numpy as np"
   ]
  },
  {
   "cell_type": "code",
   "execution_count": 2,
   "id": "b17aa1ec-3146-4d60-93a8-8f393a18620e",
   "metadata": {
    "tags": []
   },
   "outputs": [],
   "source": [
    "# Load the data\n",
    "df = pd.read_csv(\"./datasetb2d9982/dataset/train.csv\")"
   ]
  },
  {
   "cell_type": "code",
   "execution_count": 3,
   "id": "e26846aa-a9d9-4845-84c3-e4524c35305e",
   "metadata": {
    "tags": []
   },
   "outputs": [
    {
     "name": "stdout",
     "output_type": "stream",
     "text": [
      "PRODUCT_ID               0\n",
      "TITLE                   13\n",
      "BULLET_POINTS       837366\n",
      "DESCRIPTION        1157382\n",
      "PRODUCT_TYPE_ID          0\n",
      "PRODUCT_LENGTH           0\n",
      "dtype: int64\n"
     ]
    }
   ],
   "source": [
    "# Print the number of missing values in each column\n",
    "print(df.isnull().sum())"
   ]
  },
  {
   "cell_type": "code",
   "execution_count": 4,
   "id": "6f441315-5ee8-4c0c-ab49-29ae2261ff99",
   "metadata": {},
   "outputs": [],
   "source": [
    "# Drop any rows with missing values (if mode values cause instability, drop all missin values nly for test)\n",
    "# df.dropna(inplace=True)"
   ]
  },
  {
   "cell_type": "code",
   "execution_count": 5,
   "id": "3ae60393-28ad-4744-8793-d4cfbcdfaf21",
   "metadata": {
    "tags": []
   },
   "outputs": [],
   "source": [
    "# Impute missing values in the TITLE column with the mode\n",
    "df['TITLE'].fillna(df['TITLE'].mode()[0], inplace=True)"
   ]
  },
  {
   "cell_type": "code",
   "execution_count": 6,
   "id": "17893405-3d5f-4c62-a9a7-cc955d05628b",
   "metadata": {
    "tags": []
   },
   "outputs": [],
   "source": [
    "# Drop rows with missing values in the BULLET_POINTS and DESCRIPTION columns\n",
    "df.dropna(subset=['BULLET_POINTS', 'DESCRIPTION'], inplace=True)"
   ]
  },
  {
   "cell_type": "code",
   "execution_count": 7,
   "id": "80e1f1d2-d280-44b6-84b6-deee6c7b2610",
   "metadata": {
    "tags": []
   },
   "outputs": [
    {
     "name": "stdout",
     "output_type": "stream",
     "text": [
      "PRODUCT_ID         0\n",
      "TITLE              0\n",
      "BULLET_POINTS      0\n",
      "DESCRIPTION        0\n",
      "PRODUCT_TYPE_ID    0\n",
      "PRODUCT_LENGTH     0\n",
      "dtype: int64\n"
     ]
    }
   ],
   "source": [
    "# Verifying missing values\n",
    "print(df.isnull().sum())"
   ]
  },
  {
   "cell_type": "code",
   "execution_count": 8,
   "id": "e708f564-ede2-41ea-b2c7-c1b4afd20b24",
   "metadata": {},
   "outputs": [],
   "source": [
    "# Visualizing the df\n",
    "# refer to Colbaoratory for visualizing the df --> https://colab.research.google.com/drive/1szNvND0e7GlUPA98WiQYwcUo2VZ9De9C?usp=sharing"
   ]
  },
  {
   "cell_type": "code",
   "execution_count": 9,
   "id": "e58616ca-d9aa-4c68-bbd3-9e8c816f622b",
   "metadata": {
    "tags": []
   },
   "outputs": [
    {
     "name": "stderr",
     "output_type": "stream",
     "text": [
      "[nltk_data] Downloading package punkt to\n",
      "[nltk_data]     /home/lakshaynasa/nltk_data...\n",
      "[nltk_data]   Package punkt is already up-to-date!\n",
      "[nltk_data] Downloading package stopwords to\n",
      "[nltk_data]     /home/lakshaynasa/nltk_data...\n",
      "[nltk_data]   Package stopwords is already up-to-date!\n"
     ]
    },
    {
     "data": {
      "text/plain": [
       "True"
      ]
     },
     "execution_count": 9,
     "metadata": {},
     "output_type": "execute_result"
    }
   ],
   "source": [
    "# Preprocess the text data\n",
    "import nltk\n",
    "from nltk.corpus import stopwords\n",
    "from nltk.stem.porter import PorterStemmer\n",
    "nltk.download('punkt')\n",
    "nltk.download('stopwords')"
   ]
  },
  {
   "cell_type": "code",
   "execution_count": 10,
   "id": "52ef6071-6b3a-4337-beca-41f4743d205a",
   "metadata": {
    "tags": []
   },
   "outputs": [],
   "source": [
    "# Function to preprocess the text data\n",
    "def preprocess_text(text):\n",
    "    # Tokenize the text\n",
    "    tokens = nltk.word_tokenize(text.lower())\n",
    "    \n",
    "    # Remove stop words\n",
    "    stop_words = set(stopwords.words('english'))\n",
    "    filtered_tokens = [token for token in tokens if token not in stop_words]\n",
    "    \n",
    "    # Stem the words\n",
    "    stemmer = PorterStemmer()\n",
    "    stemmed_tokens = [stemmer.stem(token) for token in filtered_tokens]\n",
    "    \n",
    "    # Join the tokens back into a single string\n",
    "    preprocessed_text = \" \".join(stemmed_tokens)\n",
    "    \n",
    "    return preprocessed_text"
   ]
  },
  {
   "cell_type": "code",
   "execution_count": null,
   "id": "895c8ab5-ec73-4978-9510-c67901668d4d",
   "metadata": {},
   "outputs": [],
   "source": [
    "# Preprocessing the text data in the TITLE, DESCRIPTION, and BULLET_POINTS columns\n",
    "df[\"TITLE\"] = df[\"TITLE\"].apply(preprocess_text)\n",
    "df[\"DESCRIPTION\"] = df[\"DESCRIPTION\"].apply(preprocess_text)\n",
    "df[\"BULLET_POINTS\"] = df[\"BULLET_POINTS\"].apply(preprocess_text)"
   ]
  },
  {
   "cell_type": "code",
   "execution_count": null,
   "id": "ac5e6998-1fa7-4d37-b395-4da501bc56f0",
   "metadata": {
    "tags": []
   },
   "outputs": [],
   "source": [
    "from sklearn.feature_extraction.text import CountVectorizer, TfidfVectorizer\n",
    "from sklearn.preprocessing import OneHotEncoder\n",
    "from sklearn.compose import ColumnTransformer\n",
    "from sklearn.model_selection import train_test_split, cross_val_score\n",
    "from sklearn.linear_model import LinearRegression, Lasso, Ridge\n",
    "from sklearn.tree import DecisionTreeRegressor\n",
    "from sklearn.ensemble import RandomForestRegressor, GradientBoostingRegressor\n",
    "from sklearn.metrics import mean_absolute_percentage_error"
   ]
  },
  {
   "cell_type": "code",
   "execution_count": null,
   "id": "a4f1c2e6-6589-4b6c-a5fa-4deb1d00169c",
   "metadata": {},
   "outputs": [],
   "source": [
    "# Define the feature columns\n",
    "text_columns = [\"TITLE\", \"DESCRIPTION\", \"BULLET_POINTS\"]\n",
    "categorical_columns = [\"PRODUCT_TYPE_ID\"]"
   ]
  },
  {
   "cell_type": "code",
   "execution_count": null,
   "id": "9932523e-9bb5-4bf3-a469-d533707eddd0",
   "metadata": {},
   "outputs": [],
   "source": [
    "# Vectorize the text data\n",
    "vectorizer = TfidfVectorizer()\n",
    "text_features = vectorizer.fit_transform(df[text_columns].apply(lambda x: \" \".join(x), axis=1))"
   ]
  },
  {
   "cell_type": "code",
   "execution_count": null,
   "id": "3f6172a8-d6e1-4c18-be9a-388711e0ebb8",
   "metadata": {},
   "outputs": [],
   "source": [
    "# One-hot encode the categorical features\n",
    "encoder = OneHotEncoder()\n",
    "categorical_features = encoder.fit_transform(df[categorical_columns])"
   ]
  },
  {
   "cell_type": "code",
   "execution_count": null,
   "id": "70fa679f-6583-47bf-8b19-00b4acd47e1c",
   "metadata": {},
   "outputs": [],
   "source": [
    "# Combine the features\n",
    "feature_names = vectorizer.get_feature_names() + encoder.get_feature_names(categorical_columns)\n",
    "X = np.concatenate((text_features.toarray(), categorical_features.toarray()), axis=1)\n",
    "y = df[\"PRODUCT_LENGTH\"].values"
   ]
  },
  {
   "cell_type": "code",
   "execution_count": null,
   "id": "fd8af3da-0c46-469d-92e5-8d6f4cbf0b8e",
   "metadata": {},
   "outputs": [],
   "source": [
    "# Define a column transformer to apply the same preprocessing to new data\n",
    "preprocessor = ColumnTransformer([\n",
    "    (\"text\", vectorizer, text_columns),\n",
    "    (\"cat\", encoder, categorical_columns)\n",
    "])"
   ]
  },
  {
   "cell_type": "code",
   "execution_count": null,
   "id": "2e491528-de6f-40c3-bbbd-feeb52208292",
   "metadata": {},
   "outputs": [],
   "source": [
    "Evaluate the performance of different models using cross-validation\n",
    "models = [\n",
    "    LinearRegression(),\n",
    "    Lasso(),\n",
    "    Ridge(),\n",
    "    DecisionTreeRegressor(),\n",
    "    RandomForestRegressor(),\n",
    "    GradientBoostingRegressor()\n",
    "]"
   ]
  },
  {
   "cell_type": "code",
   "execution_count": null,
   "id": "e8150a0e-b6c7-48b3-b9f6-a03c28de1e88",
   "metadata": {},
   "outputs": [],
   "source": [
    "for model in models:\n",
    "    scores = cross_val_score(model, X, y, cv=5, scoring=\"neg_mean_absolute_percentage_error\")\n",
    "    print(type(model).__name__)\n",
    "    print(\"Mean absolute percentage error: {:.2f}%\".format(-100 * np.mean(scores)))\n",
    "    print()"
   ]
  },
  {
   "cell_type": "code",
   "execution_count": null,
   "id": "8316742e-ec69-40f1-819e-1037ee6adb19",
   "metadata": {},
   "outputs": [],
   "source": [
    "best_model = GradientBoostingRegressor()\n",
    "best_model.fit(X, y)\n",
    "y_pred = best_model.predict(X)\n",
    "mape = mean_absolute_percentage_error(y, y_pred)\n",
    "print(\"Mean absolute percentage error on training set: {:.2f}%\".format(100 * mape))"
   ]
  }
 ],
 "metadata": {
  "kernelspec": {
   "display_name": "Python 3 (ipykernel)",
   "language": "python",
   "name": "python3"
  },
  "language_info": {
   "codemirror_mode": {
    "name": "ipython",
    "version": 3
   },
   "file_extension": ".py",
   "mimetype": "text/x-python",
   "name": "python",
   "nbconvert_exporter": "python",
   "pygments_lexer": "ipython3",
   "version": "3.10.6"
  }
 },
 "nbformat": 4,
 "nbformat_minor": 5
}
