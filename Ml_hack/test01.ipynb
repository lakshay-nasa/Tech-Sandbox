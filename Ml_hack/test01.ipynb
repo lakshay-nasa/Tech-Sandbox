{
 "cells": [
  {
   "cell_type": "code",
   "execution_count": 1,
   "id": "30fb0cf4-b412-4ff0-ab49-118b375f793d",
   "metadata": {
    "tags": []
   },
   "outputs": [],
   "source": [
    "import pandas as pd"
   ]
  },
  {
   "cell_type": "code",
   "execution_count": 2,
   "id": "81c0c167-d27d-4a6e-8d93-542427eb63fd",
   "metadata": {
    "tags": []
   },
   "outputs": [],
   "source": [
    "df = pd.read_csv('./datasetb2d9982/dataset/train.csv')"
   ]
  },
  {
   "cell_type": "code",
   "execution_count": 3,
   "id": "c11c333c-a9ad-44ad-9a83-54216f03ee87",
   "metadata": {
    "tags": []
   },
   "outputs": [
    {
     "name": "stdout",
     "output_type": "stream",
     "text": [
      "   PRODUCT_ID                                              TITLE   \n",
      "0     1925202  ArtzFolio Tulip Flowers Blackout Curtain for D...  \\\n",
      "1     2673191  Marks & Spencer Girls' Pyjama Sets T86_2561C_N...   \n",
      "\n",
      "                                       BULLET_POINTS DESCRIPTION   \n",
      "0  [LUXURIOUS & APPEALING: Beautiful custom-made ...         NaN  \\\n",
      "1  [Harry Potter Hedwig Pyjamas (6-16 Yrs),100% c...         NaN   \n",
      "\n",
      "   PRODUCT_TYPE_ID  PRODUCT_LENGTH  \n",
      "0             1650         2125.98  \n",
      "1             2755          393.70  \n"
     ]
    }
   ],
   "source": [
    "print(df.head(2))"
   ]
  },
  {
   "cell_type": "code",
   "execution_count": 4,
   "id": "7c2825e2-d3b6-46ad-9a69-93361698f630",
   "metadata": {},
   "outputs": [
    {
     "name": "stdout",
     "output_type": "stream",
     "text": [
      "PRODUCT_ID               0\n",
      "TITLE                   13\n",
      "BULLET_POINTS       837366\n",
      "DESCRIPTION        1157382\n",
      "PRODUCT_TYPE_ID          0\n",
      "PRODUCT_LENGTH           0\n",
      "dtype: int64\n"
     ]
    }
   ],
   "source": [
    "# Print the number of missing values in each column\n",
    "print(df.isnull().sum())"
   ]
  },
  {
   "cell_type": "code",
   "execution_count": 5,
   "id": "e0f035f2-9494-405c-b100-f724175acfd5",
   "metadata": {
    "tags": []
   },
   "outputs": [],
   "source": [
    "# Impute missing values in the TITLE column with the mode\n",
    "df['TITLE'].fillna(df['TITLE'].mode()[0], inplace=True)"
   ]
  },
  {
   "cell_type": "code",
   "execution_count": 6,
   "id": "dd5575de-c3d0-4eb6-b0a7-5116270575d0",
   "metadata": {
    "tags": []
   },
   "outputs": [],
   "source": [
    "# Drop rows with missing values in the BULLET_POINTS and DESCRIPTION columns\n",
    "df.dropna(subset=['BULLET_POINTS', 'DESCRIPTION'], inplace=True)"
   ]
  },
  {
   "cell_type": "code",
   "execution_count": 7,
   "id": "5dc9efbe-bd9c-4303-b1d5-6d77f0118122",
   "metadata": {
    "tags": []
   },
   "outputs": [
    {
     "name": "stdout",
     "output_type": "stream",
     "text": [
      "PRODUCT_ID         0\n",
      "TITLE              0\n",
      "BULLET_POINTS      0\n",
      "DESCRIPTION        0\n",
      "PRODUCT_TYPE_ID    0\n",
      "PRODUCT_LENGTH     0\n",
      "dtype: int64\n"
     ]
    }
   ],
   "source": [
    "# Verifying missing values\n",
    "print(df.isnull().sum())"
   ]
  },
  {
   "cell_type": "code",
   "execution_count": 8,
   "id": "9d85b60e-cf73-4981-834e-b34e93813a34",
   "metadata": {
    "tags": []
   },
   "outputs": [],
   "source": [
    "# Visualizing the df\n",
    "import matplotlib.pyplot as plt"
   ]
  },
  {
   "cell_type": "code",
   "execution_count": null,
   "id": "a1de6241-33bb-4913-a439-a7f64f8ae439",
   "metadata": {
    "tags": []
   },
   "outputs": [],
   "source": [
    "from wordcloud import WordCloud\n",
    "\n",
    "# Create a word cloud of the TITLE column\n",
    "title_text = ' '.join(df['TITLE'].dropna().values)\n",
    "wordcloud = WordCloud(width=800, height=400).generate(title_text)\n",
    "plt.figure(figsize=(12, 6))\n",
    "plt.imshow(wordcloud)\n",
    "plt.axis('off')\n",
    "plt.show()"
   ]
  },
  {
   "cell_type": "code",
   "execution_count": null,
   "id": "f2a816e0-f493-4767-8ed9-e81fb9e1ff9e",
   "metadata": {
    "tags": []
   },
   "outputs": [],
   "source": []
  }
 ],
 "metadata": {
  "kernelspec": {
   "display_name": "Python 3 (ipykernel)",
   "language": "python",
   "name": "python3"
  },
  "language_info": {
   "codemirror_mode": {
    "name": "ipython",
    "version": 3
   },
   "file_extension": ".py",
   "mimetype": "text/x-python",
   "name": "python",
   "nbconvert_exporter": "python",
   "pygments_lexer": "ipython3",
   "version": "3.10.6"
  }
 },
 "nbformat": 4,
 "nbformat_minor": 5
}
